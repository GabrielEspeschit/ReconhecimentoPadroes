{
 "metadata": {
  "language_info": {
   "codemirror_mode": {
    "name": "ipython",
    "version": 3
   },
   "file_extension": ".py",
   "mimetype": "text/x-python",
   "name": "python",
   "nbconvert_exporter": "python",
   "pygments_lexer": "ipython3",
   "version": "3.8.2-final"
  },
  "orig_nbformat": 2,
  "kernelspec": {
   "name": "python38264bit08592e403cee4537bb5e90e452eed589",
   "display_name": "Python 3.8.2 64-bit"
  }
 },
 "nbformat": 4,
 "nbformat_minor": 2,
 "cells": [
  {
   "cell_type": "code",
   "execution_count": 1,
   "metadata": {},
   "outputs": [],
   "source": [
    "import numpy as np\n",
    "import pandas as pd"
   ]
  },
  {
   "cell_type": "code",
   "execution_count": 89,
   "metadata": {
    "tags": []
   },
   "outputs": [],
   "source": [
    "# Lendo os dados necessários\n",
    "df_heart = pd.read_csv('heart.dat', header=None, delim_whitespace = True)\n",
    "df_spam = pd.read_csv('spambase.data', header=None)"
   ]
  },
  {
   "cell_type": "code",
   "execution_count": 212,
   "metadata": {},
   "outputs": [],
   "source": [
    "#Definindo função para calcular a PDF\n",
    "def pdf_mv(x, mu, cov):\n",
    "    '''\n",
    "    Calcular a PDF multivariada\n",
    "    Argumentos:\n",
    "    x = vetor numpy (d x 1)\n",
    "    mu = vetor de médias (d x 1)\n",
    "    cov = matriz de covariancia (d x d)\n",
    "    Retorna: Probabilidade de está contida na pdf com os argumentos passados.\n",
    "    '''\n",
    "    assert(mu.shape[0] > mu.shape[1]), 'mu deve ser um vetor fileira'\n",
    "    assert(x.shape[0] > x.shape[1]), 'x deverá ser um vetor fileira'\n",
    "    assert(cov.shape[0] == cov.shape[1]), 'matriz de covariancia deve ser quadrada'\n",
    "    assert(mu.shape[0] == cov.shape[0]), 'erro de dimensão'\n",
    "    assert(x.shape[0] == cov.shape[0]), 'erro de dimenssão'\n",
    "    parte1 = 1/(((2* np.pi)**(len(mu)/2))*(np.linalg.det(cov)**(1/2)))\n",
    "    parte2 = (-1/2) * ((x-mu).T.dot(np.linalg.inv(cov))).dot((x-mu))\n",
    "    return float(parte1 * np.exp(parte2))"
   ]
  },
  {
   "cell_type": "code",
   "execution_count": 213,
   "metadata": {
    "tags": []
   },
   "outputs": [],
   "source": [
    "# Definindo função que aplica o teorema de Bayes [3]\n",
    "def classe(x, c1, c2, px1, px2, cor1=0, cor2=0):\n",
    "    '''\n",
    "    Aplicar teorema de bayes\n",
    "    Argumentos:\n",
    "    x = vetor numpy a ser classificado (d x 1)\n",
    "    c1 = vetor de médias do conjunto de dados 1 (d x 1)\n",
    "    c2 = vetor de médias do conjunto de dados 2 (d x 1)\n",
    "    px1 = probabilidade de x ser da classe 1\n",
    "    px2 = probabilidade de x ser da classe 2\n",
    "    cor1 = matriz de covariancia 1  (d x d)\n",
    "    cor2 = matriz de covariancia 2  (d x d)\n",
    "    Retorna: 0 ou 1 dependendo de qual PDF (classe) pretencer\n",
    "    '''\n",
    "    p1 = pdf_mv(x, c1, cor1)\n",
    "    p2 = pdf_mv(x, c2, cor2)\n",
    "    return float(px1*p1)>float(px2*p2)"
   ]
  },
  {
   "cell_type": "code",
   "execution_count": 214,
   "metadata": {
    "tags": []
   },
   "outputs": [],
   "source": [
    "# Função para fazer divisão de dados de treino e teste [1]\n",
    "def train_test(df, train_v = 0.9):\n",
    "    '''\n",
    "    Fazer divisão em dados de teste e treino\n",
    "    Argumentos:\n",
    "    df = dataframe que se deseja dividir\n",
    "    train_v = Porcentagem de dados de treino (deve ser menor que 1)\n",
    "    Retorna: Vetores X, Y de treino e teste adequadamente distribuidos \n",
    "    '''\n",
    "    assert(train_v<=1), 'train_v deve ser menor que 1'\n",
    "    dados = df.to_numpy()\n",
    "    np.random.shuffle(dados)\n",
    "    train, test = dados[:int(train_v*len(dados))], dados[:-int(train_v*len(dados))]\n",
    "    X_train, y_train = train[:, :train.shape[1]-1], train[:,train.shape[1]-1:]\n",
    "    X_test, y_test = test[:, :train.shape[1]-1], test[:,train.shape[1]-1:]\n",
    "    return (X_train, y_train, X_test, y_test)"
   ]
  },
  {
   "cell_type": "code",
   "execution_count": 215,
   "metadata": {},
   "outputs": [],
   "source": [
    "# Função para calcular a média, desvio padrão, correlação e probabilidade merginal [2]\n",
    "def media_dp_cor_pm(X_train, y_train):\n",
    "    '''\n",
    "    Calcular a média, desvio padrão, correlação e probabilidade merginal\n",
    "    Argumentos:\n",
    "    X_train = Matriz com os parametros X[n] da função analizada\n",
    "    Y_train = Classificação dos dados\n",
    "    Retorna: Média das duas classes, desvio padrão das duas classes, correlação das duas classes, probabilidade marginal das duas classes.\n",
    "    '''\n",
    "    xc1, xc2 = [], []\n",
    "    for x, y in zip(X_train, y_train):\n",
    "        if y == 1:\n",
    "            xc1.append(x)\n",
    "        else:\n",
    "            xc2.append(x)\n",
    "    xc1, xc2 = np.array(xc1), np.array(xc2)\n",
    "    mean1 = np.mean(xc1, axis = 0)\n",
    "    mean2 = np.mean(xc2, axis = 0)\n",
    "    mean1 = mean1.reshape(mean1.shape[0], 1)\n",
    "    mean2 = mean2.reshape(mean2.shape[0], 1)\n",
    "\n",
    "    sd1 = np.std(xc1, axis = 0)\n",
    "    sd2 = np.std(xc2, axis = 0)\n",
    "\n",
    "    cor1 = (np.cov(np.transpose(xc1)))\n",
    "    cor2 = (np.cov(np.transpose(xc2)))\n",
    "\n",
    "    pxc1 = len(xc1)/(len(xc1)+len(xc2))\n",
    "    pxc2 = len(xc2)/(len(xc1)+len(xc2))\n",
    "    return (mean1, mean2, sd1, sd2, cor1, cor2, pxc1, pxc2)"
   ]
  },
  {
   "cell_type": "code",
   "execution_count": 216,
   "metadata": {
    "tags": []
   },
   "outputs": [
    {
     "output_type": "stream",
     "name": "stdout",
     "text": "Probabilidade marginal de ser da classe 1: 0.39565217391304347\nProbabilidade marginal de ser da classe 2: 0.6043478260869565\n"
    }
   ],
   "source": [
    "X_train, y_train, X_test, y_test = train_test(df_spam, 0.9)\n",
    "mean1, mean2, sd1, sd2, cor1, cor2, pxc1, pxc2 = media_dp_cor_pm(X_train, y_train)\n",
    "print(f'Probabilidade marginal de ser da classe 1: {pxc1}\\nProbabilidade marginal de ser da classe 2: {pxc2}')"
   ]
  },
  {
   "cell_type": "code",
   "execution_count": 217,
   "metadata": {
    "tags": []
   },
   "outputs": [],
   "source": [
    "# Definindo em qual classe estão os pontos de teste\n",
    "classificador=[]\n",
    "for test in X_test:\n",
    "    test = test.reshape(test.shape[0],1)\n",
    "    classificador.append(classe(x=test, c1=mean1, c2=mean2, px1=pxc1, px2=pxc2, cor1=cor1, cor2=cor2))"
   ]
  },
  {
   "cell_type": "code",
   "execution_count": 218,
   "metadata": {
    "tags": []
   },
   "outputs": [
    {
     "output_type": "stream",
     "name": "stdout",
     "text": "Numero de acertos: 377\nNúmeros de erros: 84\nPorcentagem de acertos: 81.78%\n"
    }
   ],
   "source": [
    "certos = 0\n",
    "errados = 0\n",
    "\n",
    "for classe_prevista, classe_real in zip(classificador, y_test):\n",
    "    if (classe_prevista == classe_real) or (classe_prevista == 0 and classe_real == 2):\n",
    "        certos += 1\n",
    "    else:\n",
    "        errados += 1\n",
    "print(f'Numero de acertos: {certos}\\nNúmeros de erros: {errados}\\nPorcentagem de acertos: {certos/(certos+errados)*100:.2f}%')"
   ]
  },
  {
   "cell_type": "code",
   "execution_count": 219,
   "metadata": {},
   "outputs": [],
   "source": [
    "classificador=[]\n",
    "for train in X_train:\n",
    "    train = train.reshape(test.shape[0],1)\n",
    "    classificador.append(classe(x=train, c1=mean1, c2=mean2, px1=pxc1, px2=pxc2, cor1=cor1, cor2=cor2))"
   ]
  },
  {
   "cell_type": "code",
   "execution_count": 220,
   "metadata": {
    "tags": []
   },
   "outputs": [
    {
     "output_type": "stream",
     "name": "stdout",
     "text": "Numero de acertos: 3455\nNúmeros de erros: 685\nPorcentagem de acertos: 83.45%\n"
    }
   ],
   "source": [
    "certos = 0\n",
    "errados = 0\n",
    "\n",
    "for classe_prevista, classe_real in zip(classificador, y_train):\n",
    "    if (classe_prevista == classe_real) or (classe_prevista == 0 and classe_real == 2):\n",
    "        certos += 1\n",
    "    else:\n",
    "        errados += 1\n",
    "print(f'Numero de acertos: {certos}\\nNúmeros de erros: {errados}\\nPorcentagem de acertos: {certos/(certos+errados)*100:.2f}%')"
   ]
  },
  {
   "cell_type": "code",
   "execution_count": null,
   "metadata": {},
   "outputs": [],
   "source": []
  }
 ]
}