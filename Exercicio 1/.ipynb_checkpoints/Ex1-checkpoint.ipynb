{
 "cells": [
  {
   "cell_type": "code",
   "execution_count": 214,
   "metadata": {},
   "outputs": [],
   "source": [
    "%matplotlib widget\n",
    "import numpy as np\n",
    "import matplotlib.pyplot as plt\n",
    "import math\n",
    "from mpl_toolkits import mplot3d"
   ]
  },
  {
   "cell_type": "code",
   "execution_count": 215,
   "metadata": {},
   "outputs": [],
   "source": [
    "C1 = 2\n",
    "C2 = 4\n",
    "S1 = 0.6\n",
    "S2 = 0.6\n",
    "N = 100\n",
    "Cor = 0\n",
    "\n",
    "xc1 = np.random.normal(loc=C1, scale=S1, size=(N,2))\n",
    "xc2 = np.random.normal(loc=C2, scale=S2, size=(N,2))"
   ]
  },
  {
   "cell_type": "code",
   "execution_count": 216,
   "metadata": {},
   "outputs": [
    {
     "data": {
      "application/vnd.jupyter.widget-view+json": {
       "model_id": "938fe0c8357e43548481fb1a9288a43e",
       "version_major": 2,
       "version_minor": 0
      },
      "text/plain": [
       "Canvas(toolbar=Toolbar(toolitems=[('Home', 'Reset original view', 'home', 'home'), ('Back', 'Back to previous …"
      ]
     },
     "metadata": {},
     "output_type": "display_data"
    }
   ],
   "source": [
    "plt.plot(xc1[:,0], xc1[:,1], 'o', color='b')\n",
    "plt.plot(xc2[:,0], xc2[:,1], 'o', color='r')\n",
    "plt.show()"
   ]
  },
  {
   "cell_type": "code",
   "execution_count": 217,
   "metadata": {},
   "outputs": [
    {
     "data": {
      "application/vnd.jupyter.widget-view+json": {
       "model_id": "d89cc7eddbfd4a60a9134bf2912308d1",
       "version_major": 2,
       "version_minor": 0
      },
      "text/plain": [
       "Canvas(toolbar=Toolbar(toolitems=[('Home', 'Reset original view', 'home', 'home'), ('Back', 'Back to previous …"
      ]
     },
     "metadata": {},
     "output_type": "display_data"
    },
    {
     "data": {
      "text/plain": [
       "Text(0.5, 0, 'z')"
      ]
     },
     "execution_count": 217,
     "metadata": {},
     "output_type": "execute_result"
    }
   ],
   "source": [
    "def den(x1, x2, cor, s1, s2, c1, c2):\n",
    "    aid = (((x1-c1)**2/s1**2) + ((x2-c2)**2/s2**2)- (2*cor*(x1-c1)*(x2-c2)/(s1*s2)))\n",
    "    e = np.exp(-1/(2*(1-cor**2))*aid)\n",
    "    ans = 1/(2*np.pi*s1*s2*np.sqrt(1-cor**2)) * e\n",
    "    return ans\n",
    "\n",
    "\n",
    "x1 = np.linspace(0, 6, 1000)\n",
    "x2 = np.linspace(0, 6, 1000)\n",
    "\n",
    "X1, X2 = np.meshgrid(x1, x2)\n",
    "\n",
    "D1 = den(X1, X2, Cor, S1, S2, C1, C2)\n",
    "D2 = den(X1, X2, Cor, S2, S1, C2, C1)\n",
    "\n",
    "fig = plt.figure()\n",
    "ax = plt.axes(projection='3d')\n",
    "ax.plot_surface(X1, X2, D1)\n",
    "ax.plot_surface(X1, X2, D2)\n",
    "ax.set_xlabel('x')\n",
    "ax.set_ylabel('y')\n",
    "ax.set_zlabel('z')"
   ]
  },
  {
   "cell_type": "code",
   "execution_count": null,
   "metadata": {},
   "outputs": [],
   "source": []
  },
  {
   "cell_type": "code",
   "execution_count": null,
   "metadata": {},
   "outputs": [],
   "source": []
  }
 ],
 "metadata": {
  "kernelspec": {
   "display_name": "Python 3",
   "language": "python",
   "name": "python3"
  },
  "language_info": {
   "codemirror_mode": {
    "name": "ipython",
    "version": 3
   },
   "file_extension": ".py",
   "mimetype": "text/x-python",
   "name": "python",
   "nbconvert_exporter": "python",
   "pygments_lexer": "ipython3",
   "version": "3.7.4"
  }
 },
 "nbformat": 4,
 "nbformat_minor": 2
}
