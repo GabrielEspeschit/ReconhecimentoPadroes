{
 "cells": [
  {
   "cell_type": "code",
   "execution_count": 175,
   "metadata": {},
   "outputs": [
    {
     "name": "stdout",
     "output_type": "stream",
     "text": [
      "Warning: Cannot change to a different GUI toolkit: notebook. Using widget instead.\n"
     ]
    }
   ],
   "source": [
    "%matplotlib notebook\n",
    "import numpy as np\n",
    "import matplotlib.pyplot as plt\n",
    "import math\n",
    "from mpl_toolkits import mplot3d"
   ]
  },
  {
   "cell_type": "code",
   "execution_count": 186,
   "metadata": {},
   "outputs": [],
   "source": [
    "C1 = 2\n",
    "C2 = 4\n",
    "S1 = np.sqrt(0.6)\n",
    "S2 = np.sqrt(1)\n",
    "N = 100\n",
    "Cor1 = 0.4\n",
    "Cor2 = 0\n",
    "\n",
    "xc1 = np.random.normal(loc=C1, scale=S1, size=(N,2))\n",
    "xc2 = np.random.normal(loc=C2, scale=S2, size=(N,2))"
   ]
  },
  {
   "cell_type": "code",
   "execution_count": 194,
   "metadata": {},
   "outputs": [],
   "source": [
    "plt.plot(xc1[:,0], xc1[:,1], '.', color='r')\n",
    "plt.plot(xc2[:,0], xc2[:,1], '.', color='b')\n",
    "plt.show()"
   ]
  },
  {
   "cell_type": "code",
   "execution_count": 208,
   "metadata": {},
   "outputs": [
    {
     "name": "stderr",
     "output_type": "stream",
     "text": [
      "C:\\Users\\gabri\\Anaconda3\\lib\\site-packages\\ipykernel_launcher.py:16: RuntimeWarning: More than 20 figures have been opened. Figures created through the pyplot interface (`matplotlib.pyplot.figure`) are retained until explicitly closed and may consume too much memory. (To control this warning, see the rcParam `figure.max_open_warning`).\n",
      "  app.launch_new_instance()\n"
     ]
    },
    {
     "data": {
      "application/vnd.jupyter.widget-view+json": {
       "model_id": "695c5a35bc584dfcb2205efa09b909f8",
       "version_major": 2,
       "version_minor": 0
      },
      "text/plain": [
       "Canvas(toolbar=Toolbar(toolitems=[('Home', 'Reset original view', 'home', 'home'), ('Back', 'Back to previous …"
      ]
     },
     "metadata": {},
     "output_type": "display_data"
    },
    {
     "data": {
      "text/plain": [
       "Text(0.5, 0, 'z')"
      ]
     },
     "execution_count": 208,
     "metadata": {},
     "output_type": "execute_result"
    }
   ],
   "source": [
    "def den(x1, x2, p, s1, s2, c1, c2):\n",
    "    aid = (((x1-c1)**2/s1**2) + ((x2-c2)**2/s2**2)- (2*p*(x1-c1)*(x2-c2)/(s1*s2)))\n",
    "    e = np.exp(-1/(2*(1-p**2))*aid)\n",
    "    ans = 1/(2*np.pi*s1*s2*np.sqrt(1-p**2)) * e\n",
    "    return ans\n",
    "\n",
    "\n",
    "x1 = np.linspace(0, 9, 100)\n",
    "x2 = np.linspace(0, 9, 100)\n",
    "\n",
    "X1, X2 = np.meshgrid(x1, x2)\n",
    "\n",
    "D1 = den(X1, X2, Cor1, S1, S1, C1, C1)\n",
    "D2 = den(X1, X2, Cor2, S2, S2, C2, C2)\n",
    "\n",
    "fig = plt.figure()\n",
    "ax = plt.axes(projection='3d')\n",
    "plt1 = ax.plot_surface(X1, X2, D1, ccount = 20, cmap='plasma')\n",
    "plt2 = ax.plot_surface(X1, X2, D2, ccount= 20, cmap='plasma')\n",
    "fig.colorbar(plt1, ax=ax, shrink=0.5, aspect=5)\n",
    "fig.colorbar(plt2, ax=ax, shrink=0.5, aspect=5)\n",
    "ax.set_xlabel('x')\n",
    "ax.set_ylabel('y')\n",
    "ax.set_zlabel('z')"
   ]
  },
  {
   "cell_type": "code",
   "execution_count": null,
   "metadata": {},
   "outputs": [],
   "source": []
  },
  {
   "cell_type": "code",
   "execution_count": null,
   "metadata": {},
   "outputs": [],
   "source": []
  }
 ],
 "metadata": {
  "kernelspec": {
   "display_name": "Python 3",
   "language": "python",
   "name": "python3"
  },
  "language_info": {
   "codemirror_mode": {
    "name": "ipython",
    "version": 3
   },
   "file_extension": ".py",
   "mimetype": "text/x-python",
   "name": "python",
   "nbconvert_exporter": "python",
   "pygments_lexer": "ipython3",
   "version": "3.7.4"
  }
 },
 "nbformat": 4,
 "nbformat_minor": 2
}
