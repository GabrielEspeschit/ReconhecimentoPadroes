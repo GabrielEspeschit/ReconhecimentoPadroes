{
 "cells": [
  {
   "cell_type": "code",
   "execution_count": 1,
   "metadata": {},
   "outputs": [],
   "source": [
    "import numpy as np\n",
    "import matplotlib.pyplot as plt\n",
    "import math\n",
    "from mpl_toolkits import mplot3d"
   ]
  },
  {
   "cell_type": "code",
   "execution_count": 2,
   "metadata": {},
   "outputs": [],
   "source": [
    "C1 = [2, 2]\n",
    "C2 = [4, 4]\n",
    "C3 = [2, 4]\n",
    "C4 = [4, 2]\n",
    "S1 = 0.6\n",
    "S2 = 0.8\n",
    "S3 = 0.2\n",
    "S4 = 1\n",
    "N = 100\n",
    "Cor = 0\n",
    "\n",
    "xc1 = np.random.normal(loc=C1, scale=S1, size=(N,2))\n",
    "xc2 = np.random.normal(loc=C2, scale=S2, size=(N,2))\n",
    "xc3 = np.random.normal(loc=C3, scale=S3, size=(N,2))\n",
    "xc4 = np.random.normal(loc=C4, scale=S4, size=(N,2))"
   ]
  },
  {
   "cell_type": "code",
   "execution_count": 4,
   "metadata": {},
   "outputs": [
    {
     "data": {
      "image/png": "[encoded data removed]",
      "text/plain": [
       "<Figure size 432x288 with 1 Axes>"
      ]
     },
     "metadata": {
      "needs_background": "light"
     },
     "output_type": "display_data"
    }
   ],
   "source": [
    "plt.plot(xc1[:,0], xc1[:,1], '.', color='b')\n",
    "plt.plot(xc2[:,0], xc2[:,1], '.', color='r')\n",
    "plt.plot(xc3[:,0], xc3[:,1], '.', color='g')\n",
    "plt.plot(xc4[:,0], xc4[:,1], '.', color='c')\n",
    "plt.show()"
   ]
  },
  {
   "cell_type": "code",
   "execution_count": 5,
   "metadata": {},
   "outputs": [],
   "source": [
    "mean1 = np.mean(xc1, axis = 0)\n",
    "mean2 = np.mean(xc2, axis = 0)\n",
    "mean3 = np.mean(xc3, axis = 0)\n",
    "mean4 = np.mean(xc4, axis = 0)\n",
    "\n",
    "sd1 = np.std(xc1, axis = 0)\n",
    "sd2 = np.std(xc2, axis = 0)\n",
    "sd3 = np.std(xc3, axis = 0)\n",
    "sd4 = np.std(xc4, axis = 0)"
   ]
  },
  {
   "cell_type": "code",
   "execution_count": 6,
   "metadata": {},
   "outputs": [],
   "source": [
    "def den(x1, x2, cor, s, c):\n",
    "    aid = (((x1-c[0])**2/s[0]**2) + ((x2-c[1])**2/s[1]**2)- (2*cor*(x1-c[0])*(x2-c[1])/(s[0]*s[1])))\n",
    "    e = np.exp(-1/(2*(1-cor**2))*aid)\n",
    "    ans = 1/(2*np.pi*s[0]*s[1]*np.sqrt(1-cor**2)) * e\n",
    "    return ans"
   ]
  },
  {
   "cell_type": "code",
   "execution_count": 18,
   "metadata": {},
   "outputs": [
    {
     "data": {
      "image/png": "[encoded data removed]",
      "text/plain": [
       "<Figure size 432x288 with 1 Axes>"
      ]
     },
     "metadata": {
      "needs_background": "light"
     },
     "output_type": "display_data"
    }
   ],
   "source": [
    "x1 = np.linspace(0, 6, 12)\n",
    "x2 = np.linspace(0, 6, 12)\n",
    "\n",
    "\n",
    "X1, X2 = np.meshgrid(x1, x2)\n",
    "\n",
    "plt.plot(X1, X2,'.', color='k')\n",
    "plt.show()\n",
    "D1 = den(X1, X2, Cor, sd1, mean1)\n",
    "D2 = den(X1, X2, Cor, sd2, mean2)\n",
    "D3 = den(X1, X2, Cor, sd3, mean3)\n",
    "D4 = den(X1, X2, Cor, sd4, mean4)"
   ]
  },
  {
   "cell_type": "code",
   "execution_count": 21,
   "metadata": {},
   "outputs": [
    {
     "data": {
      "text/plain": [
       "(12, 12)"
      ]
     },
     "execution_count": 21,
     "metadata": {},
     "output_type": "execute_result"
    }
   ],
   "source": [
    "M=np.zeros((len(x1),len(x2)))\n",
    "Mmax1 = np.maximum (D1, D2)\n",
    "Mmax2 = np.maximum (D3, D4)"
   ]
  },
  {
   "cell_type": "code",
   "execution_count": null,
   "metadata": {},
   "outputs": [],
   "source": []
  }
 ],
 "metadata": {
  "kernelspec": {
   "display_name": "Python 3",
   "language": "python",
   "name": "python3"
  },
  "language_info": {
   "codemirror_mode": {
    "name": "ipython",
    "version": 3
   },
   "file_extension": ".py",
   "mimetype": "text/x-python",
   "name": "python",
   "nbconvert_exporter": "python",
   "pygments_lexer": "ipython3",
   "version": "3.7.4"
  }
 },
 "nbformat": 4,
 "nbformat_minor": 2
}
