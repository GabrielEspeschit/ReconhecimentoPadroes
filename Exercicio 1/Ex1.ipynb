{
 "cells": [
  {
   "cell_type": "code",
   "execution_count": 3,
   "metadata": {},
   "outputs": [],
   "source": [
    "%matplotlib widget\n",
    "import numpy as np\n",
    "import matplotlib.pyplot as plt\n",
    "import math\n",
    "from mpl_toolkits import mplot3d"
   ]
  },
  {
   "cell_type": "code",
   "execution_count": 4,
   "metadata": {},
   "outputs": [],
   "source": [
    "C1 = 2\n",
    "C2 = 4\n",
    "S1 = 0.6\n",
    "S2 = 0.6\n",
    "N = 100\n",
    "Cor = 0\n",
    "\n",
    "xc1 = np.random.normal(loc=C1, scale=S1, size=(N,2))\n",
    "xc2 = np.random.normal(loc=C2, scale=S2, size=(N,2))"
   ]
  },
  {
   "cell_type": "code",
   "execution_count": 5,
   "metadata": {},
   "outputs": [
    {
     "data": {
      "application/vnd.jupyter.widget-view+json": {
       "model_id": "c0c03e58012d415d8aa4b835fb881197",
       "version_major": 2,
       "version_minor": 0
      },
      "text/plain": [
       "Canvas(toolbar=Toolbar(toolitems=[('Home', 'Reset original view', 'home', 'home'), ('Back', 'Back to previous …"
      ]
     },
     "metadata": {},
     "output_type": "display_data"
    },
    {
     "name": "stdout",
     "output_type": "stream",
     "text": [
      "[1.95352572 1.94442432] [3.97015461 4.06992612] [0.56776864 0.65933655] [0.6065488  0.55673425]\n"
     ]
    }
   ],
   "source": [
    "plt.plot(xc1[:,0], xc1[:,1], '.', color='b')\n",
    "plt.plot(xc2[:,0], xc2[:,1], '.', color='r')\n",
    "mean1 = np.mean(xc1, axis = 0)\n",
    "mean2 = np.mean(xc2, axis = 0)\n",
    "sd1 = np.std(xc1, axis = 0)\n",
    "sd2 = np.std(xc2, axis = 0)\n",
    "\n",
    "print(mean1, mean2, sd1, sd2)\n",
    "plt.show()\n"
   ]
  },
  {
   "cell_type": "code",
   "execution_count": 9,
   "metadata": {},
   "outputs": [
    {
     "data": {
      "application/vnd.jupyter.widget-view+json": {
       "model_id": "9d4255190e2d4b62aa70d22fe9c593a2",
       "version_major": 2,
       "version_minor": 0
      },
      "text/plain": [
       "Canvas(toolbar=Toolbar(toolitems=[('Home', 'Reset original view', 'home', 'home'), ('Back', 'Back to previous …"
      ]
     },
     "metadata": {},
     "output_type": "display_data"
    },
    {
     "data": {
      "text/plain": [
       "Text(0.5, 0, 'z')"
      ]
     },
     "execution_count": 9,
     "metadata": {},
     "output_type": "execute_result"
    }
   ],
   "source": [
    "def den(x1, x2, cor, s, c):\n",
    "    aid = (((x1-c[0])**2/s[0]**2) + ((x2-c[1])**2/s[1]**2)- (2*cor*(x1-c[0])*(x2-c[1])/(s[0]*s[1])))\n",
    "    e = np.exp(-1/(2*(1-cor**2))*aid)\n",
    "    ans = 1/(2*np.pi*s[0]*s[1]*np.sqrt(1-cor**2)) * e\n",
    "    return ans\n",
    "\n",
    "\n",
    "x1 = np.linspace(0, 6, 1000)\n",
    "x2 = np.linspace(0, 6, 1000)\n",
    "\n",
    "X1, X2 = np.meshgrid(x1, x2)\n",
    "\n",
    "D1 = den(X1, X2, Cor, sd1, mean1)\n",
    "D2 = den(X1, X2, Cor, sd2, mean2)\n",
    "\n",
    "fig = plt.figure()\n",
    "ax = plt.axes(projection='3d')\n",
    "ax.plot_surface(X1, X2, D1)\n",
    "ax.plot_surface(X1, X2, D2)\n",
    "ax.set_xlabel('x')\n",
    "ax.set_ylabel('y')\n",
    "ax.set_zlabel('z')"
   ]
  },
  {
   "cell_type": "code",
   "execution_count": null,
   "metadata": {},
   "outputs": [],
   "source": []
  }
 ],
 "metadata": {
  "kernelspec": {
   "display_name": "Python 3",
   "language": "python",
   "name": "python3"
  },
  "language_info": {
   "codemirror_mode": {
    "name": "ipython",
    "version": 3
   },
   "file_extension": ".py",
   "mimetype": "text/x-python",
   "name": "python",
   "nbconvert_exporter": "python",
   "pygments_lexer": "ipython3",
   "version": "3.7.4"
  }
 },
 "nbformat": 4,
 "nbformat_minor": 2
}
